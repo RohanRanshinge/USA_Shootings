{
  "nbformat": 4,
  "nbformat_minor": 0,
  "metadata": {
    "colab": {
      "name": "Shootings.ipynb",
      "version": "0.3.2",
      "provenance": [],
      "collapsed_sections": [],
      "include_colab_link": true
    },
    "kernelspec": {
      "name": "python3",
      "display_name": "Python 3"
    }
  },
  "cells": [
    {
      "cell_type": "markdown",
      "metadata": {
        "id": "view-in-github",
        "colab_type": "text"
      },
      "source": [
        "<a href=\"https://colab.research.google.com/github/RohanRanshinge/USA_Shootings/blob/master/Shootings.ipynb\" target=\"_parent\"><img src=\"https://colab.research.google.com/assets/colab-badge.svg\" alt=\"Open In Colab\"/></a>"
      ]
    },
    {
      "metadata": {
        "id": "y3objiCQuJyw",
        "colab_type": "code",
        "colab": {}
      },
      "cell_type": "code",
      "source": [
        "import numpy as np\n",
        "import pandas as pd\n",
        "from os import path\n",
        "from PIL import Image\n",
        "from wordcloud import WordCloud, STOPWORDS, ImageColorGenerator\n",
        "\n",
        "import matplotlib.pyplot as plt\n",
        "% matplotlib inline"
      ],
      "execution_count": 0,
      "outputs": []
    },
    {
      "metadata": {
        "id": "5iEPQswer4ML",
        "colab_type": "code",
        "outputId": "4a08a23a-0d7c-421b-c567-158f88a8340d",
        "colab": {
          "base_uri": "https://localhost:8080/",
          "height": 731
        }
      },
      "cell_type": "code",
      "source": [
        "shootings = pd.read_csv(\"https://raw.githubusercontent.com/RohanRanshinge/Assignment2/master/Mass%20Shootings%20Dataset%20Ver%205.csv\", encoding = \"ISO-8859-1\")\n",
        "shootings.head()"
      ],
      "execution_count": 0,
      "outputs": [
        {
          "output_type": "execute_result",
          "data": {
            "text/html": [
              "<div>\n",
              "<style scoped>\n",
              "    .dataframe tbody tr th:only-of-type {\n",
              "        vertical-align: middle;\n",
              "    }\n",
              "\n",
              "    .dataframe tbody tr th {\n",
              "        vertical-align: top;\n",
              "    }\n",
              "\n",
              "    .dataframe thead th {\n",
              "        text-align: right;\n",
              "    }\n",
              "</style>\n",
              "<table border=\"1\" class=\"dataframe\">\n",
              "  <thead>\n",
              "    <tr style=\"text-align: right;\">\n",
              "      <th></th>\n",
              "      <th>S#</th>\n",
              "      <th>Title</th>\n",
              "      <th>Location</th>\n",
              "      <th>Date</th>\n",
              "      <th>Incident Area</th>\n",
              "      <th>Open/Close Location</th>\n",
              "      <th>Target</th>\n",
              "      <th>Cause</th>\n",
              "      <th>Summary</th>\n",
              "      <th>Fatalities</th>\n",
              "      <th>...</th>\n",
              "      <th>Total victims</th>\n",
              "      <th>Policeman Killed</th>\n",
              "      <th>Age</th>\n",
              "      <th>Employeed (Y/N)</th>\n",
              "      <th>Employed at</th>\n",
              "      <th>Mental Health Issues</th>\n",
              "      <th>Race</th>\n",
              "      <th>Gender</th>\n",
              "      <th>Latitude</th>\n",
              "      <th>Longitude</th>\n",
              "    </tr>\n",
              "  </thead>\n",
              "  <tbody>\n",
              "    <tr>\n",
              "      <th>0</th>\n",
              "      <td>1</td>\n",
              "      <td>Texas church mass shooting</td>\n",
              "      <td>Sutherland Springs, TX</td>\n",
              "      <td>11/5/2017</td>\n",
              "      <td>Church</td>\n",
              "      <td>Close</td>\n",
              "      <td>random</td>\n",
              "      <td>unknown</td>\n",
              "      <td>Devin Patrick Kelley, 26, an ex-air force offi...</td>\n",
              "      <td>26</td>\n",
              "      <td>...</td>\n",
              "      <td>46</td>\n",
              "      <td>0.0</td>\n",
              "      <td>26</td>\n",
              "      <td>NaN</td>\n",
              "      <td>NaN</td>\n",
              "      <td>No</td>\n",
              "      <td>White</td>\n",
              "      <td>M</td>\n",
              "      <td>NaN</td>\n",
              "      <td>NaN</td>\n",
              "    </tr>\n",
              "    <tr>\n",
              "      <th>1</th>\n",
              "      <td>2</td>\n",
              "      <td>Walmart shooting in suburban Denver</td>\n",
              "      <td>Thornton, CO</td>\n",
              "      <td>11/1/2017</td>\n",
              "      <td>Wal-Mart</td>\n",
              "      <td>Open</td>\n",
              "      <td>random</td>\n",
              "      <td>unknown</td>\n",
              "      <td>Scott Allen Ostrem, 47, walked into a Walmart ...</td>\n",
              "      <td>3</td>\n",
              "      <td>...</td>\n",
              "      <td>3</td>\n",
              "      <td>0.0</td>\n",
              "      <td>47</td>\n",
              "      <td>NaN</td>\n",
              "      <td>NaN</td>\n",
              "      <td>No</td>\n",
              "      <td>White</td>\n",
              "      <td>M</td>\n",
              "      <td>NaN</td>\n",
              "      <td>NaN</td>\n",
              "    </tr>\n",
              "    <tr>\n",
              "      <th>2</th>\n",
              "      <td>3</td>\n",
              "      <td>Edgewood businees park shooting</td>\n",
              "      <td>Edgewood, MD</td>\n",
              "      <td>10/18/2017</td>\n",
              "      <td>Remodeling Store</td>\n",
              "      <td>Close</td>\n",
              "      <td>coworkers</td>\n",
              "      <td>unknown</td>\n",
              "      <td>Radee Labeeb Prince, 37, fatally shot three pe...</td>\n",
              "      <td>3</td>\n",
              "      <td>...</td>\n",
              "      <td>6</td>\n",
              "      <td>0.0</td>\n",
              "      <td>37</td>\n",
              "      <td>NaN</td>\n",
              "      <td>Advance Granite Store</td>\n",
              "      <td>No</td>\n",
              "      <td>Black</td>\n",
              "      <td>M</td>\n",
              "      <td>NaN</td>\n",
              "      <td>NaN</td>\n",
              "    </tr>\n",
              "    <tr>\n",
              "      <th>3</th>\n",
              "      <td>4</td>\n",
              "      <td>Las Vegas Strip mass shooting</td>\n",
              "      <td>Las Vegas, NV</td>\n",
              "      <td>10/1/2017</td>\n",
              "      <td>Las Vegas Strip Concert outside Mandala Bay</td>\n",
              "      <td>Open</td>\n",
              "      <td>random</td>\n",
              "      <td>unknown</td>\n",
              "      <td>Stephen Craig Paddock, opened fire from the 32...</td>\n",
              "      <td>59</td>\n",
              "      <td>...</td>\n",
              "      <td>585</td>\n",
              "      <td>1.0</td>\n",
              "      <td>64</td>\n",
              "      <td>NaN</td>\n",
              "      <td>NaN</td>\n",
              "      <td>Unclear</td>\n",
              "      <td>White</td>\n",
              "      <td>M</td>\n",
              "      <td>36.181271</td>\n",
              "      <td>-115.134132</td>\n",
              "    </tr>\n",
              "    <tr>\n",
              "      <th>4</th>\n",
              "      <td>5</td>\n",
              "      <td>San Francisco UPS shooting</td>\n",
              "      <td>San Francisco, CA</td>\n",
              "      <td>6/14/2017</td>\n",
              "      <td>UPS facility</td>\n",
              "      <td>Close</td>\n",
              "      <td>coworkers</td>\n",
              "      <td>NaN</td>\n",
              "      <td>Jimmy Lam, 38, fatally shot three coworkers an...</td>\n",
              "      <td>3</td>\n",
              "      <td>...</td>\n",
              "      <td>5</td>\n",
              "      <td>0.0</td>\n",
              "      <td>38</td>\n",
              "      <td>1.0</td>\n",
              "      <td>NaN</td>\n",
              "      <td>Yes</td>\n",
              "      <td>Asian</td>\n",
              "      <td>M</td>\n",
              "      <td>NaN</td>\n",
              "      <td>NaN</td>\n",
              "    </tr>\n",
              "  </tbody>\n",
              "</table>\n",
              "<p>5 rows × 21 columns</p>\n",
              "</div>"
            ],
            "text/plain": [
              "   S#                                Title                Location  \\\n",
              "0   1           Texas church mass shooting  Sutherland Springs, TX   \n",
              "1   2  Walmart shooting in suburban Denver            Thornton, CO   \n",
              "2   3      Edgewood businees park shooting            Edgewood, MD   \n",
              "3   4        Las Vegas Strip mass shooting           Las Vegas, NV   \n",
              "4   5           San Francisco UPS shooting       San Francisco, CA   \n",
              "\n",
              "         Date                                Incident Area  \\\n",
              "0   11/5/2017                                       Church   \n",
              "1   11/1/2017                                     Wal-Mart   \n",
              "2  10/18/2017                             Remodeling Store   \n",
              "3   10/1/2017  Las Vegas Strip Concert outside Mandala Bay   \n",
              "4   6/14/2017                                 UPS facility   \n",
              "\n",
              "  Open/Close Location     Target    Cause  \\\n",
              "0               Close     random  unknown   \n",
              "1                Open     random  unknown   \n",
              "2               Close  coworkers  unknown   \n",
              "3                Open     random  unknown   \n",
              "4               Close  coworkers      NaN   \n",
              "\n",
              "                                             Summary  Fatalities     ...      \\\n",
              "0  Devin Patrick Kelley, 26, an ex-air force offi...          26     ...       \n",
              "1  Scott Allen Ostrem, 47, walked into a Walmart ...           3     ...       \n",
              "2  Radee Labeeb Prince, 37, fatally shot three pe...           3     ...       \n",
              "3  Stephen Craig Paddock, opened fire from the 32...          59     ...       \n",
              "4  Jimmy Lam, 38, fatally shot three coworkers an...           3     ...       \n",
              "\n",
              "   Total victims  Policeman Killed  Age Employeed (Y/N)  \\\n",
              "0             46               0.0   26             NaN   \n",
              "1              3               0.0   47             NaN   \n",
              "2              6               0.0   37             NaN   \n",
              "3            585               1.0   64             NaN   \n",
              "4              5               0.0   38             1.0   \n",
              "\n",
              "             Employed at Mental Health Issues   Race Gender   Latitude  \\\n",
              "0                    NaN                   No  White      M        NaN   \n",
              "1                    NaN                   No  White      M        NaN   \n",
              "2  Advance Granite Store                   No  Black      M        NaN   \n",
              "3                    NaN              Unclear  White      M  36.181271   \n",
              "4                    NaN                  Yes  Asian      M        NaN   \n",
              "\n",
              "    Longitude  \n",
              "0         NaN  \n",
              "1         NaN  \n",
              "2         NaN  \n",
              "3 -115.134132  \n",
              "4         NaN  \n",
              "\n",
              "[5 rows x 21 columns]"
            ]
          },
          "metadata": {
            "tags": []
          },
          "execution_count": 2
        }
      ]
    },
    {
      "metadata": {
        "id": "h50kqTZL5aQz",
        "colab_type": "code",
        "colab": {}
      },
      "cell_type": "code",
      "source": [
        "shootings[['Fatalities','Race']].groupby('Race',as_index=False).count().sort_values(by='Fatalities',ascending=False)\n",
        "shootings.replace(['White American or European American','white','White','White American or European American/Some other Race','Black American or African American/Unknown','Black','black','Black American or African American','African American'],['White','White','White','White','African American','African American','African American','African American','African American'],inplace=True)"
      ],
      "execution_count": 0,
      "outputs": []
    },
    {
      "metadata": {
        "id": "Tf_QCNb0Hu6x",
        "colab_type": "code",
        "outputId": "f5b06252-ea1e-4c7f-d74a-cbf5fd1c8925",
        "colab": {
          "base_uri": "https://localhost:8080/",
          "height": 225
        }
      },
      "cell_type": "code",
      "source": [
        "shootings.replace(['Asian American','Asian American/Some other race'],['Asian','Asian'],inplace=True)\n",
        "shootings.replace(['Some other race','Two or more races','Other'],['Unknown','Unknown','Unknown'],inplace=True)\n",
        "shootings[['Race','Fatalities']].groupby('Race',as_index=False).count().sort_values(by='Fatalities',ascending=False)"
      ],
      "execution_count": 0,
      "outputs": [
        {
          "output_type": "execute_result",
          "data": {
            "text/html": [
              "<div>\n",
              "<style scoped>\n",
              "    .dataframe tbody tr th:only-of-type {\n",
              "        vertical-align: middle;\n",
              "    }\n",
              "\n",
              "    .dataframe tbody tr th {\n",
              "        vertical-align: top;\n",
              "    }\n",
              "\n",
              "    .dataframe thead th {\n",
              "        text-align: right;\n",
              "    }\n",
              "</style>\n",
              "<table border=\"1\" class=\"dataframe\">\n",
              "  <thead>\n",
              "    <tr style=\"text-align: right;\">\n",
              "      <th></th>\n",
              "      <th>Race</th>\n",
              "      <th>Fatalities</th>\n",
              "    </tr>\n",
              "  </thead>\n",
              "  <tbody>\n",
              "    <tr>\n",
              "      <th>5</th>\n",
              "      <td>White</td>\n",
              "      <td>144</td>\n",
              "    </tr>\n",
              "    <tr>\n",
              "      <th>0</th>\n",
              "      <td>African American</td>\n",
              "      <td>85</td>\n",
              "    </tr>\n",
              "    <tr>\n",
              "      <th>4</th>\n",
              "      <td>Unknown</td>\n",
              "      <td>66</td>\n",
              "    </tr>\n",
              "    <tr>\n",
              "      <th>1</th>\n",
              "      <td>Asian</td>\n",
              "      <td>18</td>\n",
              "    </tr>\n",
              "    <tr>\n",
              "      <th>2</th>\n",
              "      <td>Latino</td>\n",
              "      <td>5</td>\n",
              "    </tr>\n",
              "    <tr>\n",
              "      <th>3</th>\n",
              "      <td>Native American or Alaska Native</td>\n",
              "      <td>3</td>\n",
              "    </tr>\n",
              "  </tbody>\n",
              "</table>\n",
              "</div>"
            ],
            "text/plain": [
              "                               Race  Fatalities\n",
              "5                             White         144\n",
              "0                  African American          85\n",
              "4                           Unknown          66\n",
              "1                             Asian          18\n",
              "2                            Latino           5\n",
              "3  Native American or Alaska Native           3"
            ]
          },
          "metadata": {
            "tags": []
          },
          "execution_count": 9
        }
      ]
    },
    {
      "metadata": {
        "id": "hY2jMYd5AZqR",
        "colab_type": "code",
        "outputId": "5b5433a2-c5af-47d7-b3e3-0c0eaea06c59",
        "colab": {
          "base_uri": "https://localhost:8080/",
          "height": 166
        }
      },
      "cell_type": "code",
      "source": [
        "shootings.replace(['M','M/F'],['Male','Male/Female'],inplace=True)\n",
        "shootings[['Gender','Fatalities']].groupby('Gender',as_index=False).count().sort_values(by='Fatalities',ascending=False)"
      ],
      "execution_count": 0,
      "outputs": [
        {
          "output_type": "execute_result",
          "data": {
            "text/html": [
              "<div>\n",
              "<style scoped>\n",
              "    .dataframe tbody tr th:only-of-type {\n",
              "        vertical-align: middle;\n",
              "    }\n",
              "\n",
              "    .dataframe tbody tr th {\n",
              "        vertical-align: top;\n",
              "    }\n",
              "\n",
              "    .dataframe thead th {\n",
              "        text-align: right;\n",
              "    }\n",
              "</style>\n",
              "<table border=\"1\" class=\"dataframe\">\n",
              "  <thead>\n",
              "    <tr style=\"text-align: right;\">\n",
              "      <th></th>\n",
              "      <th>Gender</th>\n",
              "      <th>Fatalities</th>\n",
              "    </tr>\n",
              "  </thead>\n",
              "  <tbody>\n",
              "    <tr>\n",
              "      <th>1</th>\n",
              "      <td>Male</td>\n",
              "      <td>292</td>\n",
              "    </tr>\n",
              "    <tr>\n",
              "      <th>3</th>\n",
              "      <td>Unknown</td>\n",
              "      <td>21</td>\n",
              "    </tr>\n",
              "    <tr>\n",
              "      <th>0</th>\n",
              "      <td>Female</td>\n",
              "      <td>5</td>\n",
              "    </tr>\n",
              "    <tr>\n",
              "      <th>2</th>\n",
              "      <td>Male/Female</td>\n",
              "      <td>5</td>\n",
              "    </tr>\n",
              "  </tbody>\n",
              "</table>\n",
              "</div>"
            ],
            "text/plain": [
              "        Gender  Fatalities\n",
              "1         Male         292\n",
              "3      Unknown          21\n",
              "0       Female           5\n",
              "2  Male/Female           5"
            ]
          },
          "metadata": {
            "tags": []
          },
          "execution_count": 13
        }
      ]
    },
    {
      "metadata": {
        "id": "mukeoCrzBSUv",
        "colab_type": "code",
        "outputId": "47fb9b9b-8998-4f56-ba48-c3a4ae0be3fc",
        "colab": {
          "base_uri": "https://localhost:8080/",
          "height": 296
        }
      },
      "cell_type": "code",
      "source": [
        "plt.bar(shootings['Gender'],shootings['Fatalities'],align='center')\n",
        "plt.xlabel('Gender')\n",
        "plt.ylabel('Fatalities')"
      ],
      "execution_count": 0,
      "outputs": [
        {
          "output_type": "execute_result",
          "data": {
            "text/plain": [
              "Text(0, 0.5, 'Fatalities')"
            ]
          },
          "metadata": {
            "tags": []
          },
          "execution_count": 14
        },
        {
          "output_type": "display_data",
          "data": {
            "image/png": "[encoded data removed]",
            "text/plain": [
              "<Figure size 432x288 with 1 Axes>"
            ]
          },
          "metadata": {
            "tags": []
          }
        }
      ]
    },
    {
      "metadata": {
        "id": "QCj0wcuwAaJv",
        "colab_type": "code",
        "colab": {}
      },
      "cell_type": "code",
      "source": [
        "shootings.fillna('Unknown',inplace=True)"
      ],
      "execution_count": 0,
      "outputs": []
    },
    {
      "metadata": {
        "colab_type": "code",
        "outputId": "d377466a-fedb-44e5-825a-ae49db86c770",
        "id": "gCLzQTRsE2dd",
        "colab": {
          "base_uri": "https://localhost:8080/",
          "height": 642
        }
      },
      "cell_type": "code",
      "source": [
        "plt.figure(figsize=(30,10))\n",
        "plt.bar(shootings['Age'],shootings['Fatalities'],align='center')\n",
        "plt.xlabel('Age')\n",
        "plt.ylabel('Fatalities')"
      ],
      "execution_count": 0,
      "outputs": [
        {
          "output_type": "execute_result",
          "data": {
            "text/plain": [
              "Text(0, 0.5, 'Fatalities')"
            ]
          },
          "metadata": {
            "tags": []
          },
          "execution_count": 24
        },
        {
          "output_type": "display_data",
          "data": {
            "image/png": "[encoded data removed]",
            "text/plain": [
              "<Figure size 2160x720 with 1 Axes>"
            ]
          },
          "metadata": {
            "tags": []
          }
        }
      ]
    },
    {
      "metadata": {
        "colab_type": "code",
        "outputId": "13211b5a-ffa8-44b3-f0f4-a5b7298a5bbd",
        "id": "pJl2ehvNE0wp",
        "colab": {
          "base_uri": "https://localhost:8080/",
          "height": 337
        }
      },
      "cell_type": "code",
      "source": [
        "plt.figure(figsize=(10,5))\n",
        "plt.bar(shootings['Race'],shootings['Fatalities'],align='center',color='#FF0000')\n"
      ],
      "execution_count": 0,
      "outputs": [
        {
          "output_type": "execute_result",
          "data": {
            "text/plain": [
              "<BarContainer object of 323 artists>"
            ]
          },
          "metadata": {
            "tags": []
          },
          "execution_count": 36
        },
        {
          "output_type": "display_data",
          "data": {
            "image/png": "[encoded data removed]",
            "text/plain": [
              "<Figure size 720x360 with 1 Axes>"
            ]
          },
          "metadata": {
            "tags": []
          }
        }
      ]
    }
  ]
}