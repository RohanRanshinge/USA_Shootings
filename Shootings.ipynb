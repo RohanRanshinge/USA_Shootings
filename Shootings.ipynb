{
  "nbformat": 4,
  "nbformat_minor": 0,
  "metadata": {
    "colab": {
      "name": "Shootings.ipynb",
      "version": "0.3.2",
      "provenance": [],
      "collapsed_sections": [],
      "include_colab_link": true
    },
    "kernelspec": {
      "name": "python3",
      "display_name": "Python 3"
    }
  },
  "cells": [
    {
      "cell_type": "markdown",
      "metadata": {
        "id": "view-in-github",
        "colab_type": "text"
      },
      "source": [
        "<a href=\"https://colab.research.google.com/github/RohanRanshinge/USA_Shootings/blob/master/Shootings.ipynb\" target=\"_parent\"><img src=\"https://colab.research.google.com/assets/colab-badge.svg\" alt=\"Open In Colab\"/></a>"
      ]
    },
    {
      "metadata": {
        "id": "w6RUCdh02PNO",
        "colab_type": "text"
      },
      "cell_type": "markdown",
      "source": [
        "# USA Mass Shootings\n",
        "\n",
        "The project aims to analyze mass shootings that have happened in United States from 1966 to 2017"
      ]
    },
    {
      "metadata": {
        "id": "RxEN1EnU2Doy",
        "colab_type": "text"
      },
      "cell_type": "markdown",
      "source": [
        "## Ingestion"
      ]
    },
    {
      "metadata": {
        "id": "y3objiCQuJyw",
        "colab_type": "code",
        "colab": {}
      },
      "cell_type": "code",
      "source": [
        "import numpy as np\n",
        "import pandas as pd\n",
        "from os import path\n",
        "from PIL import Image\n",
        "from wordcloud import WordCloud, STOPWORDS, ImageColorGenerator\n",
        "\n",
        "import matplotlib.pyplot as plt\n",
        "% matplotlib inline"
      ],
      "execution_count": 0,
      "outputs": []
    },
    {
      "metadata": {
        "id": "rsYtmJAG2C3p",
        "colab_type": "text"
      },
      "cell_type": "markdown",
      "source": [
        ""
      ]
    },
    {
      "metadata": {
        "id": "5iEPQswer4ML",
        "colab_type": "code",
        "outputId": "9d572826-b915-496e-929c-211ed122df89",
        "colab": {
          "base_uri": "https://localhost:8080/",
          "height": 407
        }
      },
      "cell_type": "code",
      "source": [
        "shootings = pd.read_csv(\"https://raw.githubusercontent.com/RohanRanshinge/USA_Shootings/master/Mass%20Shootings%20Dataset%20Ver%205.csv\", encoding = \"ISO-8859-1\")\n",
        "shootings.head(2)"
      ],
      "execution_count": 51,
      "outputs": [
        {
          "output_type": "execute_result",
          "data": {
            "text/html": [
              "<div>\n",
              "<style scoped>\n",
              "    .dataframe tbody tr th:only-of-type {\n",
              "        vertical-align: middle;\n",
              "    }\n",
              "\n",
              "    .dataframe tbody tr th {\n",
              "        vertical-align: top;\n",
              "    }\n",
              "\n",
              "    .dataframe thead th {\n",
              "        text-align: right;\n",
              "    }\n",
              "</style>\n",
              "<table border=\"1\" class=\"dataframe\">\n",
              "  <thead>\n",
              "    <tr style=\"text-align: right;\">\n",
              "      <th></th>\n",
              "      <th>S#</th>\n",
              "      <th>Title</th>\n",
              "      <th>Location</th>\n",
              "      <th>Date</th>\n",
              "      <th>Incident Area</th>\n",
              "      <th>Open/Close Location</th>\n",
              "      <th>Target</th>\n",
              "      <th>Cause</th>\n",
              "      <th>Summary</th>\n",
              "      <th>Fatalities</th>\n",
              "      <th>...</th>\n",
              "      <th>Total victims</th>\n",
              "      <th>Policeman Killed</th>\n",
              "      <th>Age</th>\n",
              "      <th>Employeed (Y/N)</th>\n",
              "      <th>Employed at</th>\n",
              "      <th>Mental Health Issues</th>\n",
              "      <th>Race</th>\n",
              "      <th>Gender</th>\n",
              "      <th>Latitude</th>\n",
              "      <th>Longitude</th>\n",
              "    </tr>\n",
              "  </thead>\n",
              "  <tbody>\n",
              "    <tr>\n",
              "      <th>0</th>\n",
              "      <td>1</td>\n",
              "      <td>Texas church mass shooting</td>\n",
              "      <td>Sutherland Springs, TX</td>\n",
              "      <td>11/5/2017</td>\n",
              "      <td>Church</td>\n",
              "      <td>Close</td>\n",
              "      <td>random</td>\n",
              "      <td>unknown</td>\n",
              "      <td>Devin Patrick Kelley, 26, an ex-air force offi...</td>\n",
              "      <td>26</td>\n",
              "      <td>...</td>\n",
              "      <td>46</td>\n",
              "      <td>0.0</td>\n",
              "      <td>26</td>\n",
              "      <td>NaN</td>\n",
              "      <td>NaN</td>\n",
              "      <td>No</td>\n",
              "      <td>White</td>\n",
              "      <td>M</td>\n",
              "      <td>NaN</td>\n",
              "      <td>NaN</td>\n",
              "    </tr>\n",
              "    <tr>\n",
              "      <th>1</th>\n",
              "      <td>2</td>\n",
              "      <td>Walmart shooting in suburban Denver</td>\n",
              "      <td>Thornton, CO</td>\n",
              "      <td>11/1/2017</td>\n",
              "      <td>Wal-Mart</td>\n",
              "      <td>Open</td>\n",
              "      <td>random</td>\n",
              "      <td>unknown</td>\n",
              "      <td>Scott Allen Ostrem, 47, walked into a Walmart ...</td>\n",
              "      <td>3</td>\n",
              "      <td>...</td>\n",
              "      <td>3</td>\n",
              "      <td>0.0</td>\n",
              "      <td>47</td>\n",
              "      <td>NaN</td>\n",
              "      <td>NaN</td>\n",
              "      <td>No</td>\n",
              "      <td>White</td>\n",
              "      <td>M</td>\n",
              "      <td>NaN</td>\n",
              "      <td>NaN</td>\n",
              "    </tr>\n",
              "  </tbody>\n",
              "</table>\n",
              "<p>2 rows × 21 columns</p>\n",
              "</div>"
            ],
            "text/plain": [
              "   S#                                Title                Location       Date  \\\n",
              "0   1           Texas church mass shooting  Sutherland Springs, TX  11/5/2017   \n",
              "1   2  Walmart shooting in suburban Denver            Thornton, CO  11/1/2017   \n",
              "\n",
              "  Incident Area Open/Close Location  Target    Cause  \\\n",
              "0        Church               Close  random  unknown   \n",
              "1      Wal-Mart                Open  random  unknown   \n",
              "\n",
              "                                             Summary  Fatalities    ...      \\\n",
              "0  Devin Patrick Kelley, 26, an ex-air force offi...          26    ...       \n",
              "1  Scott Allen Ostrem, 47, walked into a Walmart ...           3    ...       \n",
              "\n",
              "   Total victims  Policeman Killed  Age Employeed (Y/N)  Employed at  \\\n",
              "0             46               0.0   26             NaN          NaN   \n",
              "1              3               0.0   47             NaN          NaN   \n",
              "\n",
              "  Mental Health Issues   Race Gender Latitude  Longitude  \n",
              "0                   No  White      M      NaN        NaN  \n",
              "1                   No  White      M      NaN        NaN  \n",
              "\n",
              "[2 rows x 21 columns]"
            ]
          },
          "metadata": {
            "tags": []
          },
          "execution_count": 51
        }
      ]
    },
    {
      "metadata": {
        "id": "xGtAtMPsAW75",
        "colab_type": "code",
        "colab": {}
      },
      "cell_type": "code",
      "source": [
        ""
      ],
      "execution_count": 0,
      "outputs": []
    },
    {
      "metadata": {
        "id": "h50kqTZL5aQz",
        "colab_type": "code",
        "colab": {}
      },
      "cell_type": "code",
      "source": [
        "shootings[['Fatalities','Race']].groupby('Race',as_index=False).count().sort_values(by='Fatalities',ascending=False)\n",
        "shootings.replace(['White American or European American','white','White','White American or European American/Some other Race',\n",
        "                   'Black American or African American','Black','black','Black American or African American/Unknown',\n",
        "                  'Asian American','Asian','Asian American/Some other race',\n",
        "                  'Some other race','Two or more races','Other'],\n",
        "                  ['White','White','White','White',\n",
        "                  'African American','African American','African American','African American',\n",
        "                  'Asian','Asian','Asian',\n",
        "                  'Unknown','Unknown','Unknown'],inplace=True)"
      ],
      "execution_count": 0,
      "outputs": []
    },
    {
      "metadata": {
        "id": "REgijF5mWfIf",
        "colab_type": "code",
        "colab": {
          "base_uri": "https://localhost:8080/",
          "height": 50
        },
        "outputId": "56b877fe-d7ff-456d-e6e2-10663018736f"
      },
      "cell_type": "code",
      "source": [
        "shootings['Race'].unique()"
      ],
      "execution_count": 53,
      "outputs": [
        {
          "output_type": "execute_result",
          "data": {
            "text/plain": [
              "array(['White', 'African American', 'Asian', nan, 'Latino', 'Unknown',\n",
              "       'Native American or Alaska Native'], dtype=object)"
            ]
          },
          "metadata": {
            "tags": []
          },
          "execution_count": 53
        }
      ]
    },
    {
      "metadata": {
        "id": "BoOAoAU0-4I8",
        "colab_type": "code",
        "colab": {
          "base_uri": "https://localhost:8080/",
          "height": 225
        },
        "outputId": "09adc578-a2ac-4bc6-a0f3-1c9fada977e1"
      },
      "cell_type": "code",
      "source": [
        "shootings[['Fatalities','Race']].groupby('Race',as_index=False).count().sort_values(by='Fatalities',ascending=False)"
      ],
      "execution_count": 54,
      "outputs": [
        {
          "output_type": "execute_result",
          "data": {
            "text/html": [
              "<div>\n",
              "<style scoped>\n",
              "    .dataframe tbody tr th:only-of-type {\n",
              "        vertical-align: middle;\n",
              "    }\n",
              "\n",
              "    .dataframe tbody tr th {\n",
              "        vertical-align: top;\n",
              "    }\n",
              "\n",
              "    .dataframe thead th {\n",
              "        text-align: right;\n",
              "    }\n",
              "</style>\n",
              "<table border=\"1\" class=\"dataframe\">\n",
              "  <thead>\n",
              "    <tr style=\"text-align: right;\">\n",
              "      <th></th>\n",
              "      <th>Race</th>\n",
              "      <th>Fatalities</th>\n",
              "    </tr>\n",
              "  </thead>\n",
              "  <tbody>\n",
              "    <tr>\n",
              "      <th>5</th>\n",
              "      <td>White</td>\n",
              "      <td>144</td>\n",
              "    </tr>\n",
              "    <tr>\n",
              "      <th>0</th>\n",
              "      <td>African American</td>\n",
              "      <td>85</td>\n",
              "    </tr>\n",
              "    <tr>\n",
              "      <th>4</th>\n",
              "      <td>Unknown</td>\n",
              "      <td>66</td>\n",
              "    </tr>\n",
              "    <tr>\n",
              "      <th>1</th>\n",
              "      <td>Asian</td>\n",
              "      <td>18</td>\n",
              "    </tr>\n",
              "    <tr>\n",
              "      <th>2</th>\n",
              "      <td>Latino</td>\n",
              "      <td>5</td>\n",
              "    </tr>\n",
              "    <tr>\n",
              "      <th>3</th>\n",
              "      <td>Native American or Alaska Native</td>\n",
              "      <td>3</td>\n",
              "    </tr>\n",
              "  </tbody>\n",
              "</table>\n",
              "</div>"
            ],
            "text/plain": [
              "                               Race  Fatalities\n",
              "5                             White         144\n",
              "0                  African American          85\n",
              "4                           Unknown          66\n",
              "1                             Asian          18\n",
              "2                            Latino           5\n",
              "3  Native American or Alaska Native           3"
            ]
          },
          "metadata": {
            "tags": []
          },
          "execution_count": 54
        }
      ]
    },
    {
      "metadata": {
        "id": "hY2jMYd5AZqR",
        "colab_type": "code",
        "outputId": "dc961ec4-e42d-4417-e8be-63f76aa83385",
        "colab": {
          "base_uri": "https://localhost:8080/",
          "height": 166
        }
      },
      "cell_type": "code",
      "source": [
        "shootings.replace(['M','M/F'],['Male','Male/Female'],inplace=True)\n",
        "shootings[['Gender','Fatalities']].groupby('Gender',as_index=False).count().sort_values(by='Fatalities',ascending=False)"
      ],
      "execution_count": 55,
      "outputs": [
        {
          "output_type": "execute_result",
          "data": {
            "text/html": [
              "<div>\n",
              "<style scoped>\n",
              "    .dataframe tbody tr th:only-of-type {\n",
              "        vertical-align: middle;\n",
              "    }\n",
              "\n",
              "    .dataframe tbody tr th {\n",
              "        vertical-align: top;\n",
              "    }\n",
              "\n",
              "    .dataframe thead th {\n",
              "        text-align: right;\n",
              "    }\n",
              "</style>\n",
              "<table border=\"1\" class=\"dataframe\">\n",
              "  <thead>\n",
              "    <tr style=\"text-align: right;\">\n",
              "      <th></th>\n",
              "      <th>Gender</th>\n",
              "      <th>Fatalities</th>\n",
              "    </tr>\n",
              "  </thead>\n",
              "  <tbody>\n",
              "    <tr>\n",
              "      <th>1</th>\n",
              "      <td>Male</td>\n",
              "      <td>292</td>\n",
              "    </tr>\n",
              "    <tr>\n",
              "      <th>3</th>\n",
              "      <td>Unknown</td>\n",
              "      <td>21</td>\n",
              "    </tr>\n",
              "    <tr>\n",
              "      <th>0</th>\n",
              "      <td>Female</td>\n",
              "      <td>5</td>\n",
              "    </tr>\n",
              "    <tr>\n",
              "      <th>2</th>\n",
              "      <td>Male/Female</td>\n",
              "      <td>5</td>\n",
              "    </tr>\n",
              "  </tbody>\n",
              "</table>\n",
              "</div>"
            ],
            "text/plain": [
              "        Gender  Fatalities\n",
              "1         Male         292\n",
              "3      Unknown          21\n",
              "0       Female           5\n",
              "2  Male/Female           5"
            ]
          },
          "metadata": {
            "tags": []
          },
          "execution_count": 55
        }
      ]
    },
    {
      "metadata": {
        "id": "mukeoCrzBSUv",
        "colab_type": "code",
        "outputId": "cf2bde4d-31ed-41a7-9b2b-e6a46fbe3432",
        "colab": {
          "base_uri": "https://localhost:8080/",
          "height": 296
        }
      },
      "cell_type": "code",
      "source": [
        "plt.bar(shootings['Gender'],shootings['Fatalities'],align='center',color='skyblue')\n",
        "plt.xlabel('Gender')\n",
        "plt.ylabel('Fatalities')"
      ],
      "execution_count": 56,
      "outputs": [
        {
          "output_type": "execute_result",
          "data": {
            "text/plain": [
              "Text(0, 0.5, 'Fatalities')"
            ]
          },
          "metadata": {
            "tags": []
          },
          "execution_count": 56
        },
        {
          "output_type": "display_data",
          "data": {
            "image/png": "[encoded data removed]",
            "text/plain": [
              "<Figure size 432x288 with 1 Axes>"
            ]
          },
          "metadata": {
            "tags": []
          }
        }
      ]
    },
    {
      "metadata": {
        "id": "QCj0wcuwAaJv",
        "colab_type": "code",
        "colab": {}
      },
      "cell_type": "code",
      "source": [
        "shootings.fillna('0',inplace=True)"
      ],
      "execution_count": 0,
      "outputs": []
    },
    {
      "metadata": {
        "id": "jVYdB94rbARt",
        "colab_type": "code",
        "colab": {}
      },
      "cell_type": "code",
      "source": [
        "shootings['Age'].sort_values()"
      ],
      "execution_count": 0,
      "outputs": []
    },
    {
      "metadata": {
        "colab_type": "code",
        "outputId": "63862c20-aeae-40db-c7e5-db3ef5db5266",
        "id": "gCLzQTRsE2dd",
        "colab": {
          "base_uri": "https://localhost:8080/",
          "height": 370
        }
      },
      "cell_type": "code",
      "source": [
        "plt.figure(figsize=(25,5))\n",
        "plt.bar(shootings['Age'].sort_values(),shootings['Fatalities'],align='center',)\n",
        "plt.xlabel('Age')\n",
        "plt.ylabel('Fatalities')"
      ],
      "execution_count": 62,
      "outputs": [
        {
          "output_type": "execute_result",
          "data": {
            "text/plain": [
              "Text(0, 0.5, 'Fatalities')"
            ]
          },
          "metadata": {
            "tags": []
          },
          "execution_count": 62
        },
        {
          "output_type": "display_data",
          "data": {
            "image/png": "[encoded data removed]",
            "text/plain": [
              "<Figure size 1800x360 with 1 Axes>"
            ]
          },
          "metadata": {
            "tags": []
          }
        }
      ]
    },
    {
      "metadata": {
        "colab_type": "code",
        "outputId": "4a8ba5e4-e6c9-43f9-a658-f1adedb9a913",
        "id": "pJl2ehvNE0wp",
        "colab": {
          "base_uri": "https://localhost:8080/",
          "height": 337
        }
      },
      "cell_type": "code",
      "source": [
        "plt.figure(figsize=(10,5))\n",
        "plt.bar(shootings['Race'],shootings['Fatalities'],align='center',color='maroon')\n"
      ],
      "execution_count": 73,
      "outputs": [
        {
          "output_type": "execute_result",
          "data": {
            "text/plain": [
              "<BarContainer object of 323 artists>"
            ]
          },
          "metadata": {
            "tags": []
          },
          "execution_count": 73
        },
        {
          "output_type": "display_data",
          "data": {
            "image/png": "[encoded data removed]",
            "text/plain": [
              "<Figure size 720x360 with 1 Axes>"
            ]
          },
          "metadata": {
            "tags": []
          }
        }
      ]
    },
    {
      "metadata": {
        "id": "H3mZg9_DeCyw",
        "colab_type": "code",
        "colab": {}
      },
      "cell_type": "code",
      "source": [
        ""
      ],
      "execution_count": 0,
      "outputs": []
    }
  ]
}